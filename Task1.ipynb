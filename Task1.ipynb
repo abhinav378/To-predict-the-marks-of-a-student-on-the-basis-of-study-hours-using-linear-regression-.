{
 "cells": [
  {
   "cell_type": "markdown",
   "metadata": {
    "slideshow": {
     "slide_type": "slide"
    }
   },
   "source": [
    "# Predict the percentage of an student\n",
    "**Abhinav Sharma**\n"
   ]
  },
  {
   "cell_type": "markdown",
   "metadata": {
    "slideshow": {
     "slide_type": "slide"
    }
   },
   "source": [
    "## task 1\n",
    "\n",
    "** To Explore Supervised Machine Learning**\n",
    "\n",
    "  \n",
    "    This is a simple linear regression task as it involves just two variables. Data can be found at http://bit.ly/w-data\n",
    "\n",
    "What will be predicted score if a student study for 9.25 hrs in a day? \n"
   ]
  },
  {
   "cell_type": "markdown",
   "metadata": {
    "slideshow": {
     "slide_type": "slide"
    }
   },
   "source": [
    "## Importing the Required Libraries"
   ]
  },
  {
   "cell_type": "code",
   "execution_count": 1,
   "metadata": {
    "slideshow": {
     "slide_type": "subslide"
    }
   },
   "outputs": [],
   "source": [
    "# importing Libraries\n",
    "import pandas as pd\n",
    "import numpy as np\n",
    "import matplotlib.pyplot as plt \n",
    "import seaborn as sns\n",
    "%matplotlib inline"
   ]
  },
  {
   "cell_type": "markdown",
   "metadata": {
    "slideshow": {
     "slide_type": "fragment"
    }
   },
   "source": [
    "**Reading the data**"
   ]
  },
  {
   "cell_type": "code",
   "execution_count": 2,
   "metadata": {
    "slideshow": {
     "slide_type": "subslide"
    }
   },
   "outputs": [
    {
     "name": "stdout",
     "output_type": "stream",
     "text": [
      "Data imported successfully\n"
     ]
    },
    {
     "data": {
      "text/html": [
       "<div>\n",
       "<style scoped>\n",
       "    .dataframe tbody tr th:only-of-type {\n",
       "        vertical-align: middle;\n",
       "    }\n",
       "\n",
       "    .dataframe tbody tr th {\n",
       "        vertical-align: top;\n",
       "    }\n",
       "\n",
       "    .dataframe thead th {\n",
       "        text-align: right;\n",
       "    }\n",
       "</style>\n",
       "<table border=\"1\" class=\"dataframe\">\n",
       "  <thead>\n",
       "    <tr style=\"text-align: right;\">\n",
       "      <th></th>\n",
       "      <th>Hours</th>\n",
       "      <th>Scores</th>\n",
       "    </tr>\n",
       "  </thead>\n",
       "  <tbody>\n",
       "    <tr>\n",
       "      <th>0</th>\n",
       "      <td>2.5</td>\n",
       "      <td>21</td>\n",
       "    </tr>\n",
       "    <tr>\n",
       "      <th>1</th>\n",
       "      <td>5.1</td>\n",
       "      <td>47</td>\n",
       "    </tr>\n",
       "    <tr>\n",
       "      <th>2</th>\n",
       "      <td>3.2</td>\n",
       "      <td>27</td>\n",
       "    </tr>\n",
       "    <tr>\n",
       "      <th>3</th>\n",
       "      <td>8.5</td>\n",
       "      <td>75</td>\n",
       "    </tr>\n",
       "    <tr>\n",
       "      <th>4</th>\n",
       "      <td>3.5</td>\n",
       "      <td>30</td>\n",
       "    </tr>\n",
       "    <tr>\n",
       "      <th>5</th>\n",
       "      <td>1.5</td>\n",
       "      <td>20</td>\n",
       "    </tr>\n",
       "    <tr>\n",
       "      <th>6</th>\n",
       "      <td>9.2</td>\n",
       "      <td>88</td>\n",
       "    </tr>\n",
       "    <tr>\n",
       "      <th>7</th>\n",
       "      <td>5.5</td>\n",
       "      <td>60</td>\n",
       "    </tr>\n",
       "    <tr>\n",
       "      <th>8</th>\n",
       "      <td>8.3</td>\n",
       "      <td>81</td>\n",
       "    </tr>\n",
       "    <tr>\n",
       "      <th>9</th>\n",
       "      <td>2.7</td>\n",
       "      <td>25</td>\n",
       "    </tr>\n",
       "    <tr>\n",
       "      <th>10</th>\n",
       "      <td>7.7</td>\n",
       "      <td>85</td>\n",
       "    </tr>\n",
       "    <tr>\n",
       "      <th>11</th>\n",
       "      <td>5.9</td>\n",
       "      <td>62</td>\n",
       "    </tr>\n",
       "    <tr>\n",
       "      <th>12</th>\n",
       "      <td>4.5</td>\n",
       "      <td>41</td>\n",
       "    </tr>\n",
       "    <tr>\n",
       "      <th>13</th>\n",
       "      <td>3.3</td>\n",
       "      <td>42</td>\n",
       "    </tr>\n",
       "    <tr>\n",
       "      <th>14</th>\n",
       "      <td>1.1</td>\n",
       "      <td>17</td>\n",
       "    </tr>\n",
       "    <tr>\n",
       "      <th>15</th>\n",
       "      <td>8.9</td>\n",
       "      <td>95</td>\n",
       "    </tr>\n",
       "    <tr>\n",
       "      <th>16</th>\n",
       "      <td>2.5</td>\n",
       "      <td>30</td>\n",
       "    </tr>\n",
       "    <tr>\n",
       "      <th>17</th>\n",
       "      <td>1.9</td>\n",
       "      <td>24</td>\n",
       "    </tr>\n",
       "    <tr>\n",
       "      <th>18</th>\n",
       "      <td>6.1</td>\n",
       "      <td>67</td>\n",
       "    </tr>\n",
       "    <tr>\n",
       "      <th>19</th>\n",
       "      <td>7.4</td>\n",
       "      <td>69</td>\n",
       "    </tr>\n",
       "    <tr>\n",
       "      <th>20</th>\n",
       "      <td>2.7</td>\n",
       "      <td>30</td>\n",
       "    </tr>\n",
       "    <tr>\n",
       "      <th>21</th>\n",
       "      <td>4.8</td>\n",
       "      <td>54</td>\n",
       "    </tr>\n",
       "    <tr>\n",
       "      <th>22</th>\n",
       "      <td>3.8</td>\n",
       "      <td>35</td>\n",
       "    </tr>\n",
       "    <tr>\n",
       "      <th>23</th>\n",
       "      <td>6.9</td>\n",
       "      <td>76</td>\n",
       "    </tr>\n",
       "    <tr>\n",
       "      <th>24</th>\n",
       "      <td>7.8</td>\n",
       "      <td>86</td>\n",
       "    </tr>\n",
       "  </tbody>\n",
       "</table>\n",
       "</div>"
      ],
      "text/plain": [
       "
       "19    7.4      69\n",
       "20    2.7      30\n",
       "21    4.8      54\n",
       "22    3.8      35\n",
       "23    6.9      76\n",    Hours  Scores\n",
       "0     2.5      21\n",
       "1     5.1      47\n",
       "2     3.2      27\n",
       "3     8.5      75\n",
       "4     3.5      30\n",
       "5     1.5      20\n",
       "6     9.2      88\n",
       "7     5.5      60\n",
       "8     8.3      81\n",
       "9     2.7      25\n",
       "10    7.7      85\n",
       "11    5.9      62\n",
       "12    4.5      41\n",
       "13    3.3      42\n",
       "14    1.1      17\n",
       "15    8.9      95\n",
       "16    2.5      30\n",
       "17    1.9      24\n",
       "18    6.1      67\n",
       "24    7.8      86"
      ]
     },
     "execution_count": 2,
     "metadata": {},
     "output_type": "execute_result"
    }
   ],
   "source": [
    "# Reading data from remote link\n",
    "url = \"http://bit.ly/w-data\"\n",
    "data = pd.read_csv(url)\n",
    "print(\"Data imported successfully\")\n",
    "\n",
    "data"
   ]
  },
  {
   "cell_type": "code",
   "execution_count": 3,
   "metadata": {
    "slideshow": {
     "slide_type": "subslide"
    }
   },
   "outputs": [
    {
     "data": {
      "text/plain": [
       "Hours     0\n",
       "Scores    0\n",
       "dtype: int64"
      ]
     },
     "execution_count": 3,
     "metadata": {},
     "output_type": "execute_result"
    }
   ],
   "source": [
    "#checking for null values\n",
    "data.isnull().sum()"
   ]
  },
  {
   "cell_type": "markdown",
   "metadata": {
    "slideshow": {
     "slide_type": "fragment"
    }
   },
   "source": [
    "There are no null values and hence data cleaning is not required"
   ]
  },
  {
   "cell_type": "markdown",
   "metadata": {
    "slideshow": {
     "slide_type": "slide"
    }
   },
   "source": [
    "Let's plot this data that we have on 2-D graph to eyeball our dataset and see if we can manually find any kind of relationship between the two parameters- Hours and Scores."
   ]
  },
  {
   "cell_type": "code",
   "execution_count": 4,
   "metadata": {
    "slideshow": {
     "slide_type": "subslide"
    }
   },
   "outputs": [
    {
     "data": {
      "image/png": "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\n",
      "text/plain": [
       "<Figure size 432x288 with 1 Axes>"
      ]
     },
     "metadata": {
      "needs_background": "light"
     },
     "output_type": "display_data"
    }
   ],
   "source": [
    "# Plotting the distribution of scores\n",
    "data.plot(x='Hours', y='Scores', style='o')  \n",
    "plt.title('Study Hours vs Percentage Scores')  \n",
    "plt.xlabel('Hours Studied')  \n",
    "plt.ylabel('Percentage Score')  \n",
    "plt.show()"
   ]
  },
  {
   "cell_type": "code",
   "execution_count": 5,
   "metadata": {
    "slideshow": {
     "slide_type": "subslide"
    }
   },
   "outputs": [
    {
     "data": {
      "image/png": "iVBORw0KGgoAAAANSUhEUgAAAYUAAAEWCAYAAACJ0YulAAAABHNCSVQICAgIfAhkiAAAAAlwSFlzAAALEgAACxIB0t1+/AAAADh0RVh0U29mdHdhcmUAbWF0cGxvdGxpYiB2ZXJzaW9uMy4xLjMsIGh0dHA6Ly9tYXRwbG90bGliLm9yZy+AADFEAAAgAElEQVR4nO3dd3ic5ZX4/e8ZSaMuq7lbsizJ2HQwtulusElIgYQQAgkECDWUkK3JZvdNstmW7G8bi+mBQCDgECCBVFJc6dimd0kukrslWXWkaef943k0Hkkz0kiWNCPpfK7Ll6Upz5wZSXPmue9zn1tUFWOMMQbAk+wAjDHGpA5LCsYYYyIsKRhjjImwpGCMMSbCkoIxxpgISwrGGGMiLCmYAYnIehG5JtlxGGPGhiWFcU5EzhKRF0SkRUSaROR5EVniXneliDyXpLhiPraIbBeRc5MR00hzn4tPRNpFZJ+I/FhE8pIdV7Rkvt4icqyI/EFEmkXkkIhsEZFPJiMWkzhLCuOYiBQAvwZuB4qB2cA/Ad3JjCsZRCQ9SQ/9GVXNAxYBS4B/HOoBkhj7aPsV8EdgOjAN+DrQOpIPMIFfu6SxpDC+HQWgqo+pakhVfar6B1V9U0SOBu4GTnc/yR6C/sNBfT/Ri8hfiMj77pnHakDcyzPdM5Hjo247zf2kPHU4wYuIR0T+UUR2iMh+EfmJiExxr1shIg19bh/51Csi3xORJ0TkERFpBa4UkaUisllEWt1P7v8d53HfE5FPR32fLiIHRWSRiGS5x2x0P92+KiLTB3suqroL+B1wnHvMKSJyv4jsEZFdIvIvIpLmXnele0b3PyLSBHzPvfxaN7Y2EXlXRBa5l88SkSdF5ICIbBORr0fF/j0Redx97dpE5B0RWexe9zBQDvzK/R34O/fyn4vIXvdnvFFEjo06XomI/Mp9DV91447+/VgoIn90fxc+EJGL47zGpcA84D5V9bv/nlfV6GNdICKvu49VKyKfiHq+z7iPUSMi1/Z5vn1/7h4R+ZZ7jEb39Sh2bz+sn+dkZklhfPsQCInIQyJynogU9Vyhqu8BNwAvqmqeqhYOdjD3D/lJnE+7pUAtcKZ7vG5gDXBZ1F0uBf6kqgeGGf+V7r+VQCWQB6wewv0vAJ4ACoGfArcBt6lqAVAFPB7nfo/hxN7j48BBVd0KXAFMAcqAEpzX0DdYICJSBnwSeM296CEgCFQDJwMfA6LnZk4F6nA+Qf+riHwBJzl8BSgAzgcaRcSD84n7DZwzwXOAb4jIx6OOdT7Oz6YQeAb3NVTVy4GduGczqvof7u1/B8x3H3srzmvX4w6gA5jhvhZXRD3HXJxP/o+6970UuDM6qURpBGqAR0Tks33fiEVkKfAT4G/duJcB292rHwMagFnARcC/icg5UXfv+3P/OvBZYLl7n2b3ecAwf56Tmqrav3H8DzgaeBDnjyiI86Yw3b3uSuC5PrdfD1wT9X3kNjhvSC9FXSfuca9xvz8VqAc87vebgYvjxHWlG8+hPv/CwLnubf4M3Bh1nwVAAEgHVgANfY65Peq+3wM29rl+I87wWekgr1k10AbkuN//FPiO+/VXgReAExJ47bcD7e7z2gHcCWTjDJd0A9lRt70UWBf12uzsc6xngVtjPMapMW7798CPo16HP0Vddwzgi/WaxXkOhYDivHGmua//gqjr/yXq9+OLwKY+978H+G6cY8/BSVC17s99IzA/6n7/E+M+ZUAIyI+67N+BBwf4ub8HnBP1/cyo36OEf572z/lnZwrjnKq+p6pXquocnKGLWcD/DvNws3De9HuOrX2+fxnnU+RyEVmI8+b6zADHe0lVC6P/4XxyjX68HVHf78D5Q0709L6+z/dX4wypve8OE3w6xn1Q1RqcN5LPiEgOziftR92rH8Z5g14jIrtF5D9EJGOAGD7rPre5qnqjqvqAuUAGsMcdsjiE8yY4bYDYy3DePPuaC8zqOY57rG/T+zXaG/V1J5AlccbaRSRNRH7gDrW0cvjTeSkwFef1j44t+uu5wKl9YvkyzllFP6raoKo3q2qVe98OnLODgZ7vLKBJVduiLtuBc5YUK6aeuH4RFdN7OIllOkP/eU56Nkkzgajq+yLyIHB9z0UxbtYB5ER9H/0HvQfnjxUAEZHo710P4Qwh7QWeUNWuIwh5N84fdI9ynLOLfThvDpE43fH4vnMXvZ6fqn4EXOoOuVwIPCEiJaraEeOxe4aQPMC7bqJAVQM4Zxv/JCIVwG+BD4D7h/C86nHOFEpVNRjnNn1/NvU4Q16xjrVNVecP4fEHepwv4Qy/nIuTEKbgDLcIcADn9Z+DMzQJvX/+9cAGVf2LIQehWi8id+C87j3HivV8dwPFIpIflRjKgV0DPKd64Kuq+nychz/Sn+ekYmcK45g76ffXIjLH/b4M543uJfcm+4A5IuKNutvrwIUikiMi1Tifrnv8BjhWRC50P2l+nf6fAh8GPoeTGH7CkXkM+EsRmSdOKee/AT9z30g/xPnE+yn3k90/ApkDHUxELhORqaoaxhnSAecTYyxrcMb5v8bhswREZKWIHO8moVacYYh4x4hJVfcAfwD+S0QK3InQKhFZPsDdfgT8jYicIo5qEZkLvAK0isg3RSTb/aR/nLhlxwnYhzNf0yMfJ2E14iTdf4uKOwQ8BXzP/f1YiDOk2OPXwFEicrmIZLj/lohT1NCLiBSJyD+5z8Pjzld9lcO/m/cDV4nIOe71s0VkoarW4wz3/Ls7SXwCzu/oT/s+RpS7ceZl5rqPPVVELnC/PuKf52RjSWF8a8MZc35ZRDpw/uDeBv7avX4t8A6wV0QOupf9D+DHebN4iKg/NlU9CHwB+AHOm8Z8oNenL1VtwJmcVGDTEcb/AE6S2QhsA7qAW9zHaQFuxHmz3IVzhtMQ+zARnwDeEZF2nEnnS+Kdybhv3C8CZwA/i7pqBs4kZivOMMQG4JFhPLevAF7gXZxP4k/gjHXHpKo/B/4VJ0G1Ab8Eit036s8AJ+G8RgdxXpMpCcbx78A/ukMrf4OTyHfgvKbvcvhNusfN7rH34vxsHsMtcXY/uX8MuATnE/1e4IfETtZ+oAL4E85r+bZ7nCvdY70CXIXz+9iC8zr3nDVe6t53N/ALnDmLPw7wHG/DGcb8g4i0uc/pVPe6kfp5ThriTswYkzAReQDYrapDrsk344uI/BCYoapXDHpjMyHYnIIZEndc9kKcMkszwbhDRl7gLZzFeFfTu5TWTHA2fGQSJiL/jDMM8P9UdVuy4zGjIh9nXqEDZ53HfwFPJzUiM6Zs+MgYY0yEnSkYY4yJGNdzCqWlpVpRUZHsMIwxZlzZsmXLQVWN2bNsXCeFiooKNm/enOwwjDFmXBGRHfGuG7XhIxF5QJzOl29HXVYsTofFj9z/i9zLRUT+T5yOiG+K2x3SGGPM2BrNOYUHcRYTRfsW8Gd3yf6f3e8BzsNZKDUfuA64axTjMsYYE8eoJQVV3Qg09bn4ApxVtLj/fzbq8p+o4yWgUETirv40xhgzOsa6+mi6216gp81AT9fI2fTufNhA766IESJynTgbqWw+cGC4bfyNMcbEkiolqRLjspgLKFT1XlVdrKqLp04d1oZfxhhj4hjrpLCvZ1jI/X+/e3kDvVv0zsFphmWMMWYMjXVSeIbD2/tdweHl888AX3GrkE4DWnqGmYwxxoydUVunICKP4WypWCrOBuzfxWnJ/LiIXI2zA9cX3Jv/Fmd/2xqcnaOuGq24jDHGxDdqSUFVL41z1Tl9L3C3fbxptGIxxpiJoisQQgQy09NG5fipMtFsjDFmAOGwcqCtm92HfITCo9fIdFy3uTDGmMmg0x/kYJufYDg86o9lScEYY5Jo/fv7uWdjHfXNnZQV5XD9skpWLHSWcIXCSmNHN+1dwTGLx4aPjDEmSda/v5/vPPMO+9u6KMzOYH9bF9955h3Wv7+f9u4gu5p9Y5oQwJKCMcYkzT0b68hIE3K86Yg4/6d74Pa1Nexv7RqT4aK+LCkYY0yS1Dd3kp1xuIooFFbSPB52HepMWkyWFIwxJknKinLwBUKEVfEHwwRDYboCIWYUZCctJksKxhiTJNeePY+uQJhWX4CwhvEFQgTDyiVLyga/8yixpGCMMUnQ3h2kelo+t6yspiQ3k7auICW5mdy6aj5LK4uTFpeVpBpjzBgKhsI0dvjp6HaqipZWFg8pCYRVebG2kXOOnj4q8dmZgjHGjJEWX4CGZl8kIQzVe3taufnR17j6oc0899HBEY7OYWcKxhgzyvzBMAfbu+kKhIZ1/6YOP/dtquPZd/ZFLnux7iBnzS8dqRAjLCkYY8woUVUOdQY45Avg9P0cmkAozJNbd/HwizvwuQmlemoe3/nMMSw7anQ2GbOkYIwxo6ArEOJAWzeB0PAWoL1U18id62tpaPYBMCU7g6vPquC842Yyu2j0SlYtKRhjzAgKh5XmTj8tvsCw7r+zqZM719fyyrYmADwCnz15NlecPpf8rIyRDDUmSwrGGDNCfP4QB9uHd3bQ3h3k4Rd38NRruyKtsU8pL+SmVdVUlOSOdKhxWVIwxpgjFA4rB4fZzTSsyrNv7+VHz22judM5u5g5JYuvLa/izOoSRGSkwx2QJQVjjDkCHd1BGtuHt9fBO7tbWL22lg/2tQGQle7hy6eV84VTyvCmJ2fFgCUFY4wZhlBYaWzvpn0Yaw4Otndz78Y6/vTe/shl5x49jWvPrmRqfmbc+71S18SaV+vZ397F3OLcXnsvjBRLCsYYM0RtXQGaOvxD3hbTHwzzxJYGHnl5B10B58xi/rQ8bllVzXGzpwx431fqmrht7Ueke4TCrMN7L3wfRjQxWFIwxpgEBUNhDrb76fQP7exAVXmh1ikx3dPSBUBRTgZXnzWPTxw3A08C8wZrXq0n3SNkZ6RF9l7o9Ae5Z2OdJQVjjBlrLb4AzR1+wkNchLa9sYM71tWyZUczAGke4cKTZ3P56XPJy0z8LXhPq4+CrN63z85Io6F5ZPdesKRgjJmwBtr/OFHDbVHR3hXkwRe388vXdtEzyrSkooibVlRTXpIzpGMBzCzIpqmzm7zMDHpOLHyBEHOKhn6sgVhSMMZMSD37H2ekSa/9jxMdgx9ui4pQWPnd23u5/7ltkQVsswqzuHFFFadXDq/E1CPCNWfN44fPvk93MER2Rhqd/iCBkHL9ssohH28glhSMMRNS9P7HwJDG4IfbouKthhZWr6vho/3tgDO8c9lp5Xx+0ZxhlZiKCAVZ6RTmeKkozSUvK517NtbR0NzJnGGe+QzGkoIxZsKIHi460NbNjILe5Z2DjcGHw0pTp5/WIbaoONDWzT0b61j7/uES048dM51rz55HSV78EtOB5GWlU5TjJSPtcDJZsXDaiCeBviwpGGMmhL7DRQfbu9l1qAsRifQMGmgMvtMf5GDb0BahdQdCPL6lgcde3klX0LnfghnObmrHzCoY1vPIzXSSgS1eM8aYI9B3uGh6fha7DvnY29JFXmY6vkAo5hh8MBSmqcM/pEVoqsqmmoPcvb6Ova2HS0yvPbuSjx07PaES076yvWkU5XjJykgb8n1HkiUFY8yEUN/cSWH24S6iBdkZgLK3tZsWXyDmGHxrV4Cm9qGVmW472MHqdTW8tvMQAOke4fOLZnPZaXPJHUKJaQ9vuoeS3EyyvclNBj0sKRhjJoSyohz2t3VFzhQA0tM8LCov4rHrTut12+GUmbb6Ajz4wnaeeWN3pMT01HnF3LiiirLioZeFZqR5KMr1DmmtwlhIrWiMMWaYrl9WyXeeeYdOf5DsjLSYw0Wq6ixC60y8zDQUVn7z1h4eeG4brW4X1DlF2dy4oorTKkuGHGeaRyjM8VKQlT7mHVATYUnBGDMhrFg4je9D3JLNroCz14E/mPhE8hsNh1i9tobaAx0A5HjTuPy0uVy4aHavqqBEiAhTsjMozM7A40m9ZNDDkoIxZsKIVbI5nJ3Q9rV2cc+GOtZ/eCBy2SeOncE1Z8+jONc7pJhEhLzMdIpyMkgfYiJJBksKxpgJq9Pv7HWQ6CK07kCINa/Ws+bVerrdM4pjZuZz86pqFs4YeolpsstLh8OSgjFmwgmFlcYh7ISmqmz48CB3b6hlf1s3ACW5Xq5dVsm5R0/DIxLZy2BPq4+ZBdlcsqSMpZXFMY+XlZFGcW7yy0uHw5KCMWZCGepeB7UH2rljXQ2v17cAkJEmXHTKHL58anmkkil6L4OCrHQaO7q5be1H3Mr8XonBm+6hONfbqwJqvElK5CLyl8A1gAJvAVcBM4E1QDGwFbhcVf3JiM8YM/4EQk6Zqc+fWJlpiy/Aj5/fzq/fPFxienplCTeuqGJ2UXav20bvZQBEqpvWvFrP0srilC0vHY4xfwYiMhv4OnCMqvpE5HHgEuCTwP+o6hoRuRu4GrhrrOMzxowvQy0zDYWVZ97YzYMvbKfNHV4qL87hppVVLKmIPRwUay+DrAwP+1p9lORlpmx56XAkK62lA9kiEgBygD3AKuBL7vUPAd/DkoIxZgDdQaebaaJlplt3NnPHulq2HXRKTHO9aXzljAo+d9KsASuDZhZk09jRHTlTQCAQVOaW5DIlahX1RDDmSUFVd4nIfwI7AR/wB2ALcEhVe2aFGoDZse4vItcB1wGUl5ePfsDGmJSjqjR1JF5muqfFx90b6tj00UEABDjv+BlcfdY8inIGLzG9ZEkZt639CF8gRK43DX8oTFjhhuVVR/I0UlIyho+KgAuAecAh4OfAeTFuGvM8UFXvBe4FWLx48dD2xTPGjHs+v7MILZEyU18gxJpXdrLm1XoCIeft4thZBdyyqpqjpucn/JhLK4v5u/QFrNlcz+5DvlHbyyAVJGP46Fxgm6oeABCRp4AzgEIRSXfPFuYAu5MQmzEmRYXCSmN7d0LdTFWVdR8c4J4NdRxod0pMS/O8XL+sklULpw1p/L+nYV3lKXl87pQ5w45/vEhGUtgJnCYiOTjDR+cAm4F1wEU4FUhXAE8nITZjTApq7QrQnGCZ6Uf72li9rpa3dh0uMb14cRlfOrX88JxAAiZSRdFQJGNO4WUReQKn7DQIvIYzHPQbYI2I/It72f1jHZsxJrV0B0McbPfTnUA300Odfh54fju/eXNPZOz5rOpSblheyazC7AHvGy3NIxRmeynInjgVRUORlBSoqt8Fvtvn4jpgaRLCMcakmJ5+Ra1dwUHLTIOhME+/sZuHXtgRGVqaW5LDLSurWTS3KOHHHC8N60bb5DovMsaMiei9ksuGOCk7lH5Fm7c3ccf6WnY0Ovsu52Wmc+UZFVxw0izShvDGnp+VMW4a1o02SwrGmBHVd6/k/W1dfOeZd/g+DJgYhrIt5q5DPu5eX8vztY0AeAQ+dcJMvnrGPKbkJL5uYDw2rBttlhSMMSOq717JOd50Ov1B7tlYFzcptHQGaO4cfFtMnz/ET1/ewc+3NERKTE+YM4WbV1ZTPS0v4RhHumHdkZwZpRpLCsaYEdV3r2RwegU1NHf2u22iG9+oKn96bz/3bqqjsd1piTYtP5Mblley/KipCU8IZ6Q5DeuGs5dyPMM9M0pVlhSMMSMq1l7JvkCIOUWH9zEOh5WmTj+tCaxI/nBfG7evreGd3a2As27gksVlXLK0LOFP+ukeD4W5GRRkjXxLiuGcGaUySwrGmBE12F7JHd3ORHIwPPDZQVOHn/uf28bv394bKTFddlQpNyyrYsaUrIRi8YhQmOMkg9GqKBrKmdF4YEnBGDOi4u2VfPZRU9nX2kXHIBPJgVCYX7y2i4df3EGH2wZ7XmkuN6+s4uTyxEpMRYT8LGcSeShVSMORyJnReGJJwRgz4vruldzaFaChuXPQFcmvbGvijnU11Df7ACjISueqMyv49AmJl5jmZaZTlOslY4zKSwc7MxpvLCkYY0aNP+hsfNM1yIrkhuZO7lxfy0t1TYBTYvqZE2dx5RkVCbemzvamUZQz9ltgxjszGo/zCWBJwRgzClSVQ50BDvkG3vim0x/kkZd28sSWBoLuWcRJZVO4aWU1VVMTKzFNhS0w+54ZjWeWFIwxI6or4Gx8M9CK5LAqf3p3H/du2kZTx+ES06+tqGLZ/NKESkwz0jwU5mSQPwoVRZOZJQVjzIgIhZ2Nb9q6Bi4zfW9PK6vX1fDenjYAMtM9XLq0jC8uLiMzgaGfyd6wbrRZUjDGHLG2rgBNg7S2burwc9+mOp59Z1/kspULpnLdskqmFwxeYmoN68aGJQVjzLD5g2EaO7rx+eNPJAdCYZ7cuotHXtpBp3u7qqm53LyqmhPnFA76GCLiVBRZw7oxYUnBGDNkqkpzZ4CWQSaSX6pr5M71tTRElZhefdY8Pnn8zIRKTPMy0ym0hnVjypKCMWZIEtkjeWeTU2L6yrbDJaafPWk2V5wxN6GJ4dzMdApzMshMT5tQzebGA0sKxpiEJDKR3NEd5OGXdvDU1l2REtNF5YXctLKaeaW5gz5G37UGE63Z3HhgScEYM6jB9kgOq/LsO/v40aY6mjudpDFzShY3LK/irOqSQauE4q01mGjN5sYDSwrGmLi6gyEa2/0Drkh+d3crt6+r4YO9TolpVrqHL51azsWLywadC0j3eCjKjb/WYKI1mxsPLCkYY/pJZI/kg+3d3LdpG39893CJ6blHT+PasyuZmp854PF7updOyc4Y8CxiojWbGw8sKRgzgQ1nkra9O0jTAK2t/cEwT2xp4JGXd9AVcG4zf1oet6yq5rjZUwY89lC7l060ZnPjgSUFYyaooU7SBkJhGtv9dPpjt7ZWVV6obeSuDbXsPtQFQGF2BtecPY+PHztj0Df54eyHPNGazY0HlhSMmaASnaRVVVp8AZo746852NHYwR3ratm8oxlwWk1cePJsLj99LnmDbG2ZmZFGyRHshzyRms2NB5YUjJmgEpmkHax5XXtXkAdf3M4vX9tFT+HRkooiblxRxdySgUtMB5tENqnJkoIxE9RAk7ShsNLY0U17V+yholBY+d3be3nguW0ccvdRnlWYxY0rqji9cuAS00QnkU1qsqRgzAQVb5L28tPKB9wF7e1dLdy+toaP9rcDkJXh4bJT53LRKXMGnA8QEQqynLYUo70Fphk9lhSMmaD6TtLOKszm4sVzWDizIGZCONDWzb0b6/jz+/sjl33smOlcc/Y8SvMGLjHNy0qnOMdrDesmgISTgohkA+Wq+sEoxmOMGUErFk5j+YKpA+6C5g+GeXxzPY++vJOuoDO3sGBGPresrOaYWQUDHj/Hm05RrtOjyEwMCSUFEfkM8J+AF5gnIicB31fV80czOGPMkRmoeZ2q8lxNI3dvqGVPi1NiWpSTwTVnV/LxY6fjGWA+IDMjjeIcL9leSwYTTaJnCt8DlgLrAVT1dRGpGJWIjDFHLBRWGtu7ae+OPZG87WAHd6yrYevOQwCke4QLF83m8tPmkjtAiWlGmoeiXO+gZahm/Er0JxtU1RarJDAm9bV2BWhq9xOOMVTU1hXgwRd28PTrh0tMT51XzI0rqigrjt86It3joTA3g/xM2wJzoks0KbwtIl8C0kRkPvB14IXRC8sYk6ieVhY7mzqYXpDFxaeUsbSyuNdtQmHlN2/t4YHnttHqlqHOKcrmxhVVnFZZEvfYth/y5JNoUrgF+AegG3gMeBb459EKyhiTmPXv7+f/e/pt0jxCjjeNA23d3Lb2I25lfiQxvNFwiNVra6g90AFAjjeNy0+by4WLZpMRp1rI4+6HPMX2Q550EkoKqtqJkxT+YXTDMcYMxZ3raxEBr/vm3rMeYc2r9cwtzeGeDXWs//BA5PafOHYG15w9j+Jcb8zjDbVhnZl4Eq0++hXQd4CyBdgM3KOqXSMdmDEmvmAoTFOHnx1NHRRk9f4z9qYLNQfauPLHr9LtlpgeMzOfm1dVs3BG/BLTvMx0inK9cc8ezOSQ6PBRHTAVZ+gI4IvAPuAo4D7g8qE8qIgUAj8CjsNJNl8FPgB+BlQA24GLVbV5KMc1ZrwaSovrls4AzZ3ORPLMgmwaO7rJzkhDVWnvDrG/vTuyOK0k18u1yyo59+hpcUtM+26BaSa3RJPCyaq6LOr7X4nIRlVdJiLvDONxbwN+r6oXiYgXyAG+DfxZVX8gIt8CvgV8cxjHNmZcSbTFdVfAWXPgDx5ec3DJkjJuW/sRLV0BWn0BfO7+Bmke4QunzOGy08r7bXHZw9YamFgSTQpTRaRcVXcCiEg5UOpe5x/KA4pIAbAMuBJAVf2AX0QuAFa4N3sIZ02EJQUz4Q3W4nqg5nULZuYztziHl7Y1RS47ekY+3/7k0cwuyo75eLbWwAwk0d+KvwaeE5FaQIB5wI0ikovzBj4UlcAB4MciciKwBbgVmK6qewBUdY+IxDx3FpHrgOsAysvLh/jQxqSegVpcRw8VRQuFlV+9sZsfv7CdNjdZlBfncNPKKpZU9C5H7eERoSjHykvNwBKtPvqtuz5hIU5SeD9qcvl/h/GYi4BbVPVlEbkNZ6goIap6L3AvwOLFi2O3eTRmHInV4rrDH2RqXiaNHd39bv/azmZWr6tl20GnxDTXm8ZXzqjgcyfNituQLj8rg+JcqygygxvK+eN8YAGQBZwgIqjqT4bxmA1Ag6q+7H7/BE5S2CciM92zhJnA/rhHMGYCiW5xnZXuod0fwh8Mc/HZZb1ut7eli7s31LLxo4OA8+nsvONn8NUz45eYZnvTKM71WsM6k7BES1K/izPefwzwW+A84DlgyElBVfeKSL2ILHA7rp4DvOv+uwL4gfv/00M9tjHjUU+L6zvW19DQ1Mn0gmwuWXJ4VbIvEGLNKzv52eaGyCTzsbMKuGVVNUdNz495TG+6h5LcTJtENkOW6JnCRcCJwGuqepWITMcpKR2uW4CfupVHdcBVgAd4XESuBnYCXziC4xszbnQHQ8yfkc8PP39Cr8tVlXUfHOCeDXUcaHeGkUryvFy/rJJzFk6LOS/Q06OowLbANMOUaFLwqWpYRIJu9dB+nAnjYVHV14HFMa46Z7jHNGa8CYWVpg4/bV2BftfV7G/n9rU1vLWrBYCMNOHixWV8aWl5zE//4ralKLS2FOYIJZoUNrsLzu7DqRZqB14ZtaiMmeBafAEOdXxqC3EAACAASURBVPr77YDW0hnggee38es390RaCJxZXcLXllcxqzB2iWleZjrFubbrmRkZiVYf3eh+ebeI/B4oUNU3Ry8sYyamrkCIxg4/3YFQr8uDoTDPvLGbB1/YEdkDYW5JDjetqGJxnBLTrAxnEtlWIpuRlOhE859V9RwAVd3e9zJjzMDCYaWp00+rr/9Q0ZYdzaxeV8OOxk7A+eR/5RlzOf/E2CWmGWkeinO9A26GY8xwDfhbJSJZOC0oSkWkCKcKDqAAmDXKsRkzIbR3B2lq9xMM994Sc/chH3dtqOX5mkbA+eP69AkzuerMCgpz+peY2iSyGQuDfdS4HvgGTgLYwuGk0ArcMYpxGTPuBUJhGtv9dPp7t6fw+UM8+spOHt9cTyDkzBwcP3sKt6yqpnpaXr/jeEQozHH2NrCVyGa0DZgUVPU24DYRuUVVbx+jmIxJCUPpXBpNVTnUGeCQL4BGtadQVda6xzzY7rQMm5qXyfXLK1m5YGq/N3wRoSArnULb28CMoUQnmm8XkTNw2lqnR10+nBXNxqS8RDuX9tXRHaSpw08g1Huo6MN9bdy+toZ3drcCzuKyLy6ew6VLy2NOFOe5G93Y3gZmrCU60fwwUAW8DvSUTSjDWNFszHgwWOfSvuINFTV3+rl/0zZ+9/beSInpsvml3LC8ihlTsvodx9pSmGRLtHxhMXCMqloDOjMpDNS5NFq8oaJgKMwvXt/NT17YToff+Rw1rzSXm1ZWsai8qN/jZaR5KMnzxt37wJixkuhv4NvADGDPKMZiTMqI1bnUFwgxpygn8n28oaJXtzdxx7padjY5CaQgK52rzqzg0yfM6jc3kOYRCrOtnbVJHYkmhVLgXRF5BYj08lXV80clKmOSLLpzaXZGGr5AiEBIuX5ZJf6gsz9y36GiXc0+7lxfy4t1TompR+AzJ87iyjMqmNLnrKOnoqggy9pSmNSSaFL43mgGYUyq6elces/GOhqaO5lTlMO1Z8/jhLJCdh3y9Roq6vQHeeSlnTy5tSFSYnpS2RRuWllN1dTeJaZWUWRSXaLVRxtEZC4wX1X/JCI5gM2EmQltxcJpkUnlngVohzoP7z4bVuVP7+7jvk3baOxwLp9ekMnXlldx9vzSfsNBuZlORZE33SqKTOpKtProWpwtMItxqpBmA3djXU3NBBevquj9va2sXlvDu3vaAMhM93Dp0jK+uLiMzD4lphlpHkrzbG8DMz4kOnx0E7AUeBlAVT+Kt4eyMRNBOKwc8gVo6VNV1NTh575NdTz7zr7IZSsXTOW6ZZVML+hdYmp7IpvxKNGk0K2q/p5fbBFJB6w81UxIsXoVBUJhntq6i4df2kGnW2JaOTWXW1ZWc2JZYb9jWDtrM14lmhQ2iMi3gWwR+QvgRuBXoxeWMWOvOxiisd1PV5+21i/VNXLn+loamn2AU2L61bPm8anjZ/abLLb1Bma8S/Q391vA1cBbOE3yfsuRbcdpTMqItwNafVMnd66v5eVtTYBTYnrBSbO54vS5FPQpMbUOpmaiSDQpZAMPqOp9ACKS5l7WOeC9jElhqkqrL0hzp59w1LxBR3eQh1/awVNbdxF0d0ZbVF7ITSurmVea2+sY1sHUTDSJJoU/A+fibMMJTkL4A3DGaARlzGjz+UMcbO/utRo5rMqz7+zjR5vqaO50zhpmTsnihuVVnFVd0u9NPz8rg+JcW29gJpZEk0KWqvYkBFS13V2rYMy4Egg5q5E7unuXmL67u5Xb19XwwV6nxDQr3cOXTi3n4sVl/dYVZGWkUZLXv2ndcFttG5NKEk0KHSKySFW3AojIKYBv9MIyZmTFa1zX2N7NvZu28cd3D5eYnrNwGtctq2RqfmavY6R5hOJcL/kx5g2G22rbmFSTaFK4Ffi5iOx2v58JfHF0QjJmZMUqMfUHwzy5tYFHXtqJz602mj8tj1tWVXPc7Cm97t/TmqIoxxu3T9FQW20bk6oGTQoi4gG8wEJgAc6WnO+rav8dyI1JIV2BEE0dvUtMVZUXahu5a0Mtuw91AVCYncHVZ83jE8fN6Dc/kO1NoyQ3c9DWFIm22jYm1Q2aFFQ1LCL/paqn47TQNialBUNhmjr9tHf1njfY2djJHetreHV7M+AMB33u5Fl85bQK8rJ6/ykMdb1BIq22jRkPEh0++oOIfB54yjbaMamqZ96gxRfoVWLa3hXkoRe388vXdxNyS0yXVBRx44oq5pb0LzEdTmuKgVptGzOeJJoU/grIBUIi4sMZQlJVLRi1yIwZgvbuIM19NrwJhZXfv72X+5/bxiGfM9o5qzCLG1dUcXpl/xLTguwMiobZ0jpWq22rPjLjUaKts/NHOxBjhqMrEKKxw093n9YUb+9q4fa1NXy036mkzsrwcNmpc7nolDkJl5gOVXSrbWPGq0RbZwvwZWCeqv6ziJQBM1X1lVGNzpg4gu56g/Y+6w0OtHVz78Y6/vz+/shl5x7tlJiW5vUuMU33eCjO85KXaX2KjOmR6F/DnUAYWAX8M87K5juAJaMUlzExqSotvgCHOnvPG/iDYR7fXM+jL++kK+gMIS2Yns/Nq6o4dlb/EtMp2RkUZttWmMb0lWhSOFVVF4nIawCq2iwi3lGMy5h+OrqDNPWZN1BVnq9xSkz3tDglpkU5GVxzdiUfP3Y6nhi7nxXnesmwltbGxJRoUgi4TfAUQESm4pw5GDPquoPOegOfv/e8wbaDHdyxroatOw8BTonphSfP5vLT5/YbErKW1sYkJtG/kP8DfgFME5F/BS4C/nHUojLjwmj3+onX0rqtK8CDL+zg6dd34VaYsnReMTeuqKK8uPe6AOtiaszQJFp99FMR2YKzJ7MAn1XV90Y1MpPSRrPXT7yW1qGw8pu39vDAc9todRemzSnK5sYVVZxWWdLvOLb7mTFDN2BSEJEs4AagGmeDnXtUNTjQfczkMFq9fmLNGwC80XCI1WtrqD3Q4T5eGpedNpfPL5rdb37Am+6hNC+TrIz+JabWydSYgQ12pvAQEAA2AecBRwPfGO2gTOob6V4/8bbC3Nfaxb0b61j3wYHIZR8/djrXnl1JcW7vWoc0j1CU6427+5l1MjVmcIMlhWNU9XgAEbkfGLF1Ce7E9WZgl6p+WkTmAWuAYmArcLmq+kfq8czIGqleP/H6FHUHQqx5tZ41r9bT7ZaYHj0zn5tXVnP0zP4L6RNZjWydTI0Z3GCDrZEZvlEYNroViJ6X+CHwP6o6H2jG2RPapKjrl1USCCmd/iCqzv9D6fXj9Cny09Ds65UQVJUNHx7gygdf5aEXd9AdDFOc6+Vbn1jA7Zee3C8hZHvTmF2UTWle5qDtKeqbO8nuM6RknUyN6W2wM4UTRaTV/VqAbPf7I+p9JCJzgE8B/wr8lbtiehXwJfcmDwHfA+4azvHN6DuSXj/x5g1qD7Rzx7oaXq9vASAjTfj8ojlcdlp5v1LS4axGtk6mxgxuwL8oVT2yZjDx/S/wd0BPT6US4FDU2UgDMDvWHUXkOuA6gPLy8lEKzyRiqL1+4q03aPEFePD57fzqzd2REtPTKp0S01hv2AXZGRQPsOFNPNbJ1JjBjflKHhH5NLBfVbeIyIqei2PcNGaLblW9F7gXYPHixdbGexwIhZXmTj+tvkC/y3/95m5+/Pz2SIlpWVE2N62sZum84n7HycxIoyTXG7OqKBHWydSYwSVjeeeZwPki8kkgCyjAOXMoFJF092xhDrB7gGOYcaBnvcEhnz+yj0GP1+udEtO6g06Jaa43ja+cUcHnTprVb12BR5yqoinZsauKhsI6mRozsDFPCqr698DfA7hnCn+jql8WkZ/jrJReA1wBPD3WsZmR4/OHONje3W/eYG9rF3dvqGXjhwcB5xTxvONmcPXZ8yjK6d9OKy8rnZLcwSeRjTEjI5UawXwTWCMi/wK8Btyf5HjMMATcltYdfVpadwVCrHmlnjWb6/G7JabHzirgllXVHDW9/3YdGWnOArRs72hNaxljYklqUlDV9cB69+s6YGky4zHDF+6ZN+hySlR7qCrrPzjAPRvr2N/WDUBJnpfrl1VyzsJp/foRDXc7TGPMyEilMwUzDqkqrV1BDnX2nzeo2d/O6nU1vNlwuMT04sVlfGlpecwzAOtVZEzyWVIwwxZvvUFLZ4AHnt/Gb97aEykxPbO6hBuWVzG7MLvfcWyoyJjUYUnBDFm89QahsPL067t58IXtkW0y55bkcPPKak6ZW9TvONFDRRvcISZrVGdMcllSMAmLt78BwNYdzaxeV8P2RqdlRG5mGleeUcEFJ/YvMQWnqqg4xxkqskZ1xqQOSwpmUPH2NwDY0+LjrvV1PFdzuMT0UyfM5KtnVlAYo8Q0Vltra1RnTOqwpGAG1OkP0tjef97AFwjx6Ms7eXxzPYGQkyiOn13AzSurmR+jxHSgqqKRbsNtjBk+SwomJn/QWW/Q6e+93kBVWetuVHOw3elsPjUvk+uXV7JywdSYZaTRQ0WxWKM6Y1KHJQXTy0DzBh/ua2P12hre3u00zvWme/ji4jlcsrS8X0vqnuvj7YAWzRrVGZM6LCkYwFl81uIL0OIL9Js3aO70c/9z2/jdW3sjXQqXzS/lhuVVzJiS1e9YaR6hMCfxXkXWqM6Y1GFJYZIbaPFZMBTmF6/v5icvbqej2yk/nVeay80rqzi5vH+JKQy/V5E1qjMmNVhSmMTiTSIDvLq9iTvX1bKjyZnszc9K56ozKvjMibNivuEnOlRkjEltlhQmoXiLzwB2Nfu4a0MtL9Q2AuAR+MwJs7jyzIqYw0FDHSoyxqQ2SwqTyECTyJ3+II+8tJMntzZESkxPnDOFm1dVUzU1L+bx8rMyKM71WltrYyYQSwoTwHq3RDRei4h17+3jzvW11Dd3MqMgm0uWlLG00tnZLKzKn97dx32bttHY4ZSYTsvP5IblVSw/qjRmiWlGmoep+YMPFQ0WlzEm9Yjq+N3RcvHixbp58+Zkh5FU0S0ioss5v3/+saxYOI1n39rDP/36XdI8QlaGh65AmGBYuXXVfApy0lm9toZ397QBkJnu4ZIlZXxxSVnMN3wRpw1FYU7GoG2tB4vLGJM8IrJFVRfHus7OFMa5eC0i7tpQy4KZ+dy1oY40j0TWEWRnpNHeHeQ/nv2Apk5/5DgrjprK9csrmV7Qv8QUICsjjdK8TLzpibW1ttYVxoxPlhTGub4tIlSVDI+wo7EDnz/EnlYfBVnpkeuafQGaOvyRltZVU3O5eWU1J5YVxjz+cPdHttYVxoxPlhTGuZ4WEdkZaYTCSkgVnz/EjAJn34KZBdk0dnQTCisH2rsjk8hpHuGWVdV86viZcSeKczPTKRnmpjfWusKY8cm2uBrnrj17Hl2BMK1dAYLhMD5/iGBYuWRJGQDnLJzG/rZudrd0RRJCjjeNfzhvIefHWXOQkeZhxpQsphdkDXsXtOuXVRIIKZ1+Z3vOTn/QWlcYMw7YmcI4peq0paialsctK6tZ82o9e1t9keqiY2cXcPeGWp7auougO1bkTRPmleZx1RkVkeqjaCLClOwMihKYSB6Mta4wZnyy6qNxqK0rQHOHc2bQV1iVZ9/Zx4821dHc6axHmFGQxQ0rKjm7OnaJKUBmRhqleV4y0+OXmVqJqTETg1UfTRA+f4jGjm78wf7JAODd3a3cvq6GD/Y6JaZZ6R4uPbWci0+ZQ2acNQVpHmciuSBr4Ilk2x3NmMnBksI4EG9vgx4H27u5b9M2/vjuvshlqxZO4/pllUzNz4x73KGsSLYSU2MmB0sKKSwUVpo7/bR1OZO1ffmDYZ7c2sAjL+3EF3D6GFW7cwzHz5kS97iZGWmU5HqH1LzOSkyNmRwsKaSggfZE7rn+pbom7lxfy65DPgCmZGdw9VnzOO+4GXE/+Q93zQFYiakxk4UlhRTT3h2kuSN2O2uAnY2d3LG+hle3NwPOnMBnT5rFFadXkJcV+8f5Sl0TP9/SwN5WH+XFucOaILbd0YyZHCwppIiugNPOuivQv501OMni4Rd38NRruyKb4SyeW8SNK6uoKMmNe9wt25tZvb6GzHQPRTneYU8QW4mpMZODJYUxFKuk86z5pTR1+mnvij2JHFbl92/v5UebtnHI55SYzirM4mvLqzijqiRuialHhMKcDJ7c2kBmumdEJohtdzRjJj5LCmOkb0nnvlYf//DLt7llVTVL5/VfSAbw9q4WVq+r4cN97QBkZXi47NS5XHTKnAEb00W3p2g45LMJYmNMwiwpjJHoks5QWMlISyMQCrLmlfp+SeFAWzf3bqzjz+/vj1x27tHTuG5ZJaV58UtM0z0eSvK85GYe/rHaBLExZigsKYyR+uZOCjLT8QfDkfLSrAwPe1t9kdv4g2Ee31zPoy/vpMtdoLZgej43r6ri2FnxS0wBtz2FF0+fyiObIDbGDIUlhTHgD4aZlp/JgbbuyL4GAF2BMDMKslFVnqtp5O4Ntexp6QKgKCeDa86ax8ePm4FngD5Eg7WnsAliY8xQWFIYRdGLzy4+pYzb1n6ELxDqtQPaygVT+dsn3mTrzkOAU2J64cmzufz0ueRlxv/xJNqeAmyC2BiTOEsKo6Cng+mhzkBk8dnSymJuZX6km2lpXiYF2RnctvajyIY3S+cVc+OKKsqLBx7vz8tKpyQ3M6H2FMYYMxSWFEbYQIvPllYWc0pFEb99aw/3P7eNVrcMdU5RNjeuqOK0ypIBj+1N91Cal9mvPYV1LzXGjBRLCiPE5w/R1OmnO87iM4A3Gw6xem0tNQecEtMcbxqXnTaXzy+aTcYAm9kM1J7CupcaY0bSmCcFESkDfgLMAMLAvap6m4gUAz8DKoDtwMWq2jzW8Q2m76fyr55ZwfFzCuN2MAXY39rFPRvrWPfBgchlHz92OteeXUlxrnfAx8vLTKd4gC0xrXupMWYkJeNMIQj8tapuFZF8YIuI/BG4Evizqv5ARL4FfAv4ZhLiiyv6U/mUrHR2t/j4zjPvcOuq+TF3MusOhHh8cwOPvrKTbrfEdOGMfG5ZVc3RMwsGfKyMNGfNQfT6glise6kxZiSNeVJQ1T3AHvfrNhF5D5gNXACscG/2ELCeFEsK92ysI90D3jQPgbCSmeYhHFbWvFrfKymoKps+OshdG2rZ19oNOCWm1y2r5C+OmT5gielQt8S0xWnGmJGU1DkFEakATgZeBqa7CQNV3SMiMcc+ROQ64DqA8vLysQnUtaOpgzx3RXKPvgvQ6g60s3pdLa/XOyWm6R7holPm8OVTy3utNI4l25tGSW7mgC0s+rLFacaYkZS0pCAiecCTwDdUtTXRjeJV9V7gXnD2aB69CA/r2QZzWl4WjR2xF6C1+gL8+IXt/OqN3ZES09MqnRLTwT61p3mE4lwv+QmsOejLFqcZY0ZSUpKCiGTgJISfqupT7sX7RGSme5YwE9gf/whjo+82mJcs6b8ALRAKM7ckh6888EqkxLSsKJubVsZvdBctLzOdkrwjW3Ngi9OMMSMlGdVHAtwPvKeq/x111TPAFcAP3P+fHq0YBqvrD4bCNHcGaOsK9Lpf3wVoud50AiHl6Td2A5DrTeMrp8/lsycPXGIKiU8kG2PMWJJYe/+O6gOKnAVsAt7CKUkF+DbOvMLjQDmwE/iCqjYNdKzFixfr5s2bh/T40RVE0WPw3z//WJYdNZUWX4AWXyDmNpg99rZ2cfeGWjZ+eNB5TsB5x83gq2fNG7TEFJzmdcW53oQmko0xZqSJyBZVXRzrumRUHz2H8z4ayzmj/fjx6vrvWF9D5dQ8guHY22CCszvamlfqWbO5Hr9bYnrsrAJuXlnNghn5gz62N93D1PzMuM3rjDEm2Sbd2EXfuv5wWEkTob6pM25CUFU2fHiAuzfUsb/NKTEtyfNy/bJKzlk4bdBP/CJCcY6XKTlDn0g2xpixNOmSQk9df3ZGGoGQoqr4AiFmFGTHvH3N/nZWr6vhzYYWADLShIsXl/GlpeVkewf/xJ/tTaM0L3PQOQZjjEkFky4p9NT1h8NB0tMk0sL6kiVlvW7X0hnggRe28Zs390RKTM+sLuFry6uYVRg7gUQ7kjJTY4xJlkmXFHrq+u9cX8vOpg5mFGRzyZKyyIrkUFh5+vXdPPjCdtq7nRLTucU53LSyisUVg5eYAuRnORPJ1traGDPeTLqkAE5iWDyvmP2tXb0u37qjmdXratje6PQNys1M44rTK/jsSbPiNqSLlpmRRkmut19ra2OMGS8mZVLoa0+Lj7vW1/FczeES00+dMJOvnllBYc7gJaZD2QXNGGNS2aROCr5AiEdf3snjm+sJhJyJg+NnF3DTymqOmj54iSnYUJExZmKZlElBVfnNm7v5f89+wMF2PwBT8zK5fnklKxdMTWhRmQ0VGWMmokmZFL755Js8vrkBcEpML1lSxiVLy3s1uotnoF3QjDFmvJuUSeEzJ87i8c0NLJtfyg3Lq5gxJSuh++VmplMywC5oxhgz3k3KpHD2/Kk88bXTKU5gEhmcieTSvMxB90MwxpjxbtJ+5F04Y+DtMHvkZaYzpyjHEoIxZlKwd7o40j1Oa2tLBsaYycTe8WIoyM6gOMeLx8pMjTGTjCWFKN50D6V5mVZmaoyZtCwpcLi1dUF2um18Y4yZ1CZ9UrDW1sYYc9ikTQppIkzNz7TW1sYYE2XSJgVngxybOzDGmGg2ZmKMMSbCkoIxxpgISwrGGGMiLCkYY4yJsKRgjDEmwpKCMcaYCEsKxhhjIiwpGGOMibCkYIwxJkJUNdkxDJuIHAB2DOEupcDBUQpnuFIxJkjNuFIxJkjNuFIxJkjNuFIxJhjduOaq6tRYV4zrpDBUIrJZVRcnO45oqRgTpGZcqRgTpGZcqRgTpGZcqRgTJC8uGz4yxhgTYUnBGGNMxGRLCvcmO4AYUjEmSM24UjEmSM24UjEmSM24UjEmSFJck2pOwRhjzMAm25mCMcaYAVhSMMYYEzEpkoKIPCAi+0Xk7WTH0kNEykRknYi8JyLviMitKRBTloi8IiJvuDH9U7JjiiYiaSLymoj8OtmxAIjIdhF5S0ReF5HNyY6nh4gUisgTIvK++/t1epLjWeC+Rj3/WkXkG8mMqYeI/KX7u/62iDwmIlkpENOtbjzvJON1mhRzCiKyDGgHfqKqxyU7HgARmQnMVNWtIpIPbAE+q6rvJjEmAXJVtV1EMoDngFtV9aVkxRRNRP4KWAwUqOqnUyCe7cBiVU2phU8i8hCwSVV/JCJeIEdVDyU7LnASO7ALOFVVh7LwdDRimY3zO36MqvpE5HHgt6r6YBJjOg5YAywF/MDvga+p6kdjFcOkOFNQ1Y1AU7LjiKaqe1R1q/t1G/AeMDvJMamqtrvfZrj/UuJTg4jMAT4F/CjZsaQyESkAlgH3A6iqP1USguscoDbZCSFKOpAtIulADrA7yfEcDbykqp2qGgQ2AJ8bywAmRVJIdSJSAZwMvJzcSCJDNK8D+4E/qmrSY3L9L/B3QDjZgURR4A8iskVErkt2MK5K4ADwY3eo7UcikpvsoKJcAjyW7CAAVHUX8J/ATmAP0KKqf0huVLwNLBOREhHJAT4JlI1lAJYUkkxE8oAngW+oamuy41HVkKqeBMwBlrqns0klIp8G9qvqlmTH0seZqroIOA+4yR2mTLZ0YBFwl6qeDHQA30puSA53KOt84OfJjgVARIqAC4B5wCwgV0QuS2ZMqvoe8EPgjzhDR28AwbGMwZJCErnj9k8CP1XVp5IdTzR3yGE98IkkhwJwJnC+O4a/BlglIo8kNyRQ1d3u//uBX+CMAydbA9AQdYb3BE6SSAXnAVtVdV+yA3GdC2xT1QOqGgCeAs5Ickyo6v2qukhVl+EMe4/ZfAJYUkgad1L3fuA9Vf3vZMcDICJTRaTQ/Tob54/m/eRGBar696o6R1UrcIYf1qpqUj/RiUiuWyCAOzzzMZxT/6RS1b1AvYgscC86B0ha8UIfl5IiQ0euncBpIpLj/j2egzO3l1QiMs39vxy4kDF+zdLH8sGSRUQeA1YApSLSAHxXVe9PblScCVwOvOWO4QN8W1V/m8SYZgIPuRUiHuBxVU2J8s8UNB34hfNeQjrwqKr+PrkhRdwC/NQdrqkDrkpyPLjj438BXJ/sWHqo6ssi8gSwFWeI5jVSo+XFkyJSAgSAm1S1eSwffFKUpBpjjEmMDR8ZY4yJsKRgjDEmwpKCMcaYCEsKxhhjIiwpGGOMibCkYCY8EfkHt+Pkm26XzlPdy7/hlkoO9Xjtg98qctuKvt15ReR7IvI3Q31cY8bCpFinYCYvt230p4FFqtotIqWA1736G8AjQGey4jsSIpLuNk0zZsTYmYKZ6GYCB1W1G0BVD6rqbhH5Ok6/m3Uisg56nwGIyEUi8qD79TwReVFEXhWRf466zcMickHU9z8VkfOHEpyInCQiL7lnMb9w+/EgIutFZLH7danb4gMRuVJEfi4iv8JpxjdTRDa6Z0Bvi8jZw3mRjOlhScFMdH8AykTkQxG5U0SWA6jq/+G0SV6pqisHOcZtOA3mlgB7oy7/Ee5qYRGZgtM3J9aK9KroTWaAG6Ku+wnwTVU9AXgL+G4Cz+l04ApVXQV8CXjWbWJ4IvD6gPc0ZhCWFMyE5u4PcQpwHU5L6Z+JyJVDPMyZHO4/83DUsTcA1W6vmkuBJ+MM59Sq6kk9/4C7IZJICt3jADyEsxfCYP6oqj37g7wKXCUi3wOOd/fmMGbYLCmYCc9tB75eVb8L3Ax8Pt5No77uuy1jvH4wDwNfxjlj+PERBdpbkMN/n31j6YgE5WwgtQxnN7OHReQrIxiDmYQsKZgJTZz9gedHXXQS0LPrVxuQH3XdPhE5WkQ89N7t6nmc7qzgJIBoD+JMWKOq7wwlNlVtAZqj5gEux9lpC2A7zhkOwEXxjiEic3H2mrgPp+tuqrTJNuOUVR+ZiS4PuN1tCR4EanCGksDpiPk7Ednjzit8nn8NCQAAAJBJREFUC/g1UI/TBjvPvd2twKMicivO/hcRqrpPRN4DfjnM+K4A7nZLY6M7mv4n8LiIXA6sHeD+K4C/FZEAzj7kdqZgjoh1STXmCLhv5m/hlLy2JDseY46UDR8ZM0wi0rMJ0e2WEMxEYWcKxhhjIuxMwRhjTIQlBWOMMRGWFIwxxkRYUjDGGBNhScEYY0zE/w+w/SdbnRITSQAAAABJRU5ErkJggg==\n",
      "text/plain": [
       "<Figure size 432x288 with 1 Axes>"
      ]
     },
     "metadata": {
      "needs_background": "light"
     },
     "output_type": "display_data"
    }
   ],
   "source": [
    "#plotting regressor plot to determine the relationship between feature and target\n",
    "sns.regplot(x=data['Hours'],y=data['Scores'],data=data)\n",
    "plt.title('Study Hours vs Percentage Scores')\n",
    "plt.xlabel('Study Hours')\n",
    "plt.ylabel('Percentage')\n",
    "plt.show()"
   ]
  },
  {
   "cell_type": "markdown",
   "metadata": {
    "slideshow": {
     "slide_type": "fragment"
    }
   },
   "source": [
    "**From the graph above, it can be clearly seen that there is a positive linear relation between the number of hours studied and percentage of score.**"
   ]
  },
  {
   "cell_type": "markdown",
   "metadata": {
    "slideshow": {
     "slide_type": "slide"
    }
   },
   "source": [
    "### Preparing our data "
   ]
  },
  {
   "cell_type": "markdown",
   "metadata": {
    "slideshow": {
     "slide_type": "subslide"
    }
   },
   "source": [
    "Next is to define our \"attributes\"(input) variable and \"labels\"(output)"
   ]
  },
  {
   "cell_type": "code",
   "execution_count": 6,
   "metadata": {
    "slideshow": {
     "slide_type": "subslide"
    }
   },
   "outputs": [],
   "source": [
    "X = data.iloc[:, :-1].values  #Attribute\n",
    "y = data.iloc[:, 1].values    #Labels\n"
   ]
  },
  {
   "cell_type": "markdown",
   "metadata": {
    "slideshow": {
     "slide_type": "fragment"
    }
   },
   "source": [
    "Now that we have the attributes and labels defined, the next step is to split this data into training and test sets."
   ]
  },
  {
   "cell_type": "code",
   "execution_count": 7,
   "metadata": {
    "slideshow": {
     "slide_type": "subslide"
    }
   },
   "outputs": [],
   "source": [
    "# Using Scikit-Learn's built-in train_test_split() method:\n",
    "\n",
    "from sklearn.model_selection import train_test_split  \n",
    "X_train, X_test, y_train, y_test = train_test_split(X, y, test_size = 0.2, random_state = 42) \n"
   ]
  },
  {
   "cell_type": "markdown",
   "metadata": {
    "slideshow": {
     "slide_type": "subslide"
    }
   },
   "source": [
    "We have the training and testing sets ready for training our model."
   ]
  },
  {
   "cell_type": "markdown",
   "metadata": {
    "slideshow": {
     "slide_type": "slide"
    }
   },
   "source": [
    "# Training the Algorithm"
   ]
  },
  {
   "cell_type": "markdown",
   "metadata": {
    "slideshow": {
     "slide_type": "slide"
    }
   },
   "source": [
    "First I will be making our linear regression algorithm from scratch and then I will compare it with the built-in function sklearn.linear_model.LinearRegression()"
   ]
  },
  {
   "cell_type": "markdown",
   "metadata": {
    "slideshow": {
     "slide_type": "subslide"
    }
   },
   "source": [
    "### Making the linear regression from scratch"
   ]
  },
  {
   "cell_type": "code",
   "execution_count": 8,
   "metadata": {
    "slideshow": {
     "slide_type": "subslide"
    }
   },
   "outputs": [],
   "source": [
    "y_train_new = y_train.reshape(-1,1)  \n",
    "ones = np.ones([X_train.shape[0], 1]) # create a array containing only ones \n",
    "X_train_new = np.concatenate([ones, X_train],1) # concatenate the ones to X matrix"
   ]
  },
  {
   "cell_type": "code",
   "execution_count": 9,
   "metadata": {
    "slideshow": {
     "slide_type": "subslide"
    }
   },
   "outputs": [
    {
     "name": "stdout",
     "output_type": "stream",
     "text": [
      "[[1. 1.]]\n"
     ]
    }
   ],
   "source": [
    "# creating the theta matrix\n",
    "# notice small alpha value\n",
    "alpha = 0.01\n",
    "iters = 5000\n",
    "\n",
    "theta = np.array([[1.0, 1.0]])\n",
    "print(theta)"
   ]
  },
  {
   "cell_type": "code",
   "execution_count": 10,
   "metadata": {
    "slideshow": {
     "slide_type": "subslide"
    }
   },
   "outputs": [],
   "source": [
    "# Cost Function\n",
    "def computeCost(X, y, theta):\n",
    "    inner = np.power(((X @ theta.T) - y), 2)\n",
    "    return np.sum(inner) / (2 * len(X))"
   ]
  },
  {
   "cell_type": "code",
   "execution_count": 11,
   "metadata": {
    "slideshow": {
     "slide_type": "subslide"
    }
   },
   "outputs": [
    {
     "data": {
      "text/plain": [
       "1259.1955"
      ]
     },
     "execution_count": 11,
     "metadata": {},
     "output_type": "execute_result"
    }
   ],
   "source": [
    "computeCost(X_train_new, y_train_new, theta)"
   ]
  },
  {
   "cell_type": "markdown",
   "metadata": {
    "slideshow": {
     "slide_type": "fragment"
    }
   },
   "source": [
    "The value of 1259.1955 is the initial value. The aim will be to minimise this to as small as possible"
   ]
  },
  {
   "cell_type": "code",
   "execution_count": 12,
   "metadata": {
    "slideshow": {
     "slide_type": "subslide"
    }
   },
   "outputs": [],
   "source": [
    "# Gradient Descent\n",
    "def gradientDescent(X, y, theta, alpha, iters):\n",
    "    m = len(X)\n",
    "    for i in range(iters):\n",
    "        theta = theta - (alpha/m) * np.sum(((X @ theta.T) - y) * X, axis=0)\n",
    "        cost = computeCost(X, y, theta)\n",
    "        #if i % 10 == 0:\n",
    "            #print(cost)\n",
    "    return (theta, cost)"
   ]
  },
  {
   "cell_type": "code",
   "execution_count": 13,
   "metadata": {
    "slideshow": {
     "slide_type": "subslide"
    }
   },
   "outputs": [
    {
     "name": "stdout",
     "output_type": "stream",
     "text": [
      "Intercept - 2.8268715728809677\n",
      "Coefficient-  9.682081515927122\n",
      "The final cost obtained after optimisation -  15.727417763727209\n"
     ]
    }
   ],
   "source": [
    "g, cost = gradientDescent(X_train_new, y_train_new, theta, alpha, iters)  \n",
    "print(\"Intercept -\", g[0][0])\n",
    "print(\"Coefficient- \", g[0][1])\n",
    "print(\"The final cost obtained after optimisation - \", cost)"
   ]
  },
  {
   "cell_type": "markdown",
   "metadata": {
    "slideshow": {
     "slide_type": "fragment"
    }
   },
   "source": [
    "From \"1259.1955\" to \"15.727417763727209\" that is a huge decrease in cost."
   ]
  },
  {
   "cell_type": "markdown",
   "metadata": {
    "slideshow": {
     "slide_type": "slide"
    }
   },
   "source": [
    "**Now Let's Plot our result**"
   ]
  },
  {
   "cell_type": "code",
   "execution_count": 14,
   "metadata": {
    "slideshow": {
     "slide_type": "subslide"
    }
   },
   "outputs": [
    {
     "data": {
      "image/png": "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\n",
      "text/plain": [
       "<Figure size 432x288 with 1 Axes>"
      ]
     },
     "metadata": {
      "needs_background": "light"
     },
     "output_type": "display_data"
    }
   ],
   "source": [
    "# Plotting scatter points\n",
    "plt.scatter(X, y, label='Scatter Plot')\n",
    "axes = plt.gca()\n",
    "\n",
    "# Plotting the Line\n",
    "x_vals = np.array(axes.get_xlim()) \n",
    "y_vals = g[0][0] + g[0][1]* x_vals #the line equation\n",
    "\n",
    "plt.plot(x_vals, y_vals, color='red', label='Regression Line')\n",
    "plt.legend()\n",
    "plt.show()"
   ]
  },
  {
   "cell_type": "markdown",
   "metadata": {
    "slideshow": {
     "slide_type": "subslide"
    }
   },
   "source": [
    "So, the above method was building our regression algorithm from scratch and implementing it on the data-set. However, as you can see this is in crude form, a more elegant would be to make a class of it.\n",
    "\n",
    "The hyper-parameters such \"alpha\" also known as the learning rate is optimised by hit and trial method, which should not be the practice.\n",
    "\n",
    "So, instead of writing this long code, python has an-inbuilt library for the same. Let's try that too."
   ]
  },
  {
   "cell_type": "markdown",
   "metadata": {
    "slideshow": {
     "slide_type": "slide"
    }
   },
   "source": [
    "### Using Scikit-Learn library"
   ]
  },
  {
   "cell_type": "code",
   "execution_count": 15,
   "metadata": {
    "slideshow": {
     "slide_type": "subslide"
    }
   },
   "outputs": [
    {
     "name": "stdout",
     "output_type": "stream",
     "text": [
      "Training complete.\n"
     ]
    }
   ],
   "source": [
    "from sklearn.linear_model import LinearRegression  \n",
    "regressor = LinearRegression()  \n",
    "regressor.fit(X_train, y_train) \n",
    "\n",
    "print(\"Training complete.\")"
   ]
  },
  {
   "cell_type": "code",
   "execution_count": 16,
   "metadata": {
    "slideshow": {
     "slide_type": "subslide"
    }
   },
   "outputs": [
    {
     "name": "stdout",
     "output_type": "stream",
     "text": [
      "Coefficient - [9.68207815]\n",
      "Intercept -  2.826892353899737\n"
     ]
    }
   ],
   "source": [
    "print (\"Coefficient -\", regressor.coef_)\n",
    "print (\"Intercept - \", regressor.intercept_)"
   ]
  },
  {
   "cell_type": "code",
   "execution_count": 17,
   "metadata": {
    "slideshow": {
     "slide_type": "subslide"
    }
   },
   "outputs": [
    {
     "data": {
      "image/png": "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\n",
      "text/plain": [
       "<Figure size 432x288 with 1 Axes>"
      ]
     },
     "metadata": {
      "needs_background": "light"
     },
     "output_type": "display_data"
    }
   ],
   "source": [
    "# Plotting the regression line\n",
    "line = regressor.coef_*X + regressor.intercept_\n",
    "\n",
    "# Plotting for the test data\n",
    "plt.scatter(X, y)\n",
    "plt.plot(X, line,color='red', label='Regression Line')\n",
    "plt.legend()\n",
    "plt.show()"
   ]
  },
  {
   "cell_type": "markdown",
   "metadata": {
    "slideshow": {
     "slide_type": "fragment"
    }
   },
   "source": [
    "As we can see that both the graph are identical and even the intercepts and coefficient of the line are same. So my effort of making linear regression algorithm from scratch has been a success!!\n",
    "\n",
    "But as you can see, it is also pretty easy to use the built-in function. Few lines of code and your work is done.Viola!!"
   ]
  },
  {
   "cell_type": "markdown",
   "metadata": {
    "slideshow": {
     "slide_type": "slide"
    }
   },
   "source": [
    "### **Making Predictions**\n",
    "Now that we have trained our algorithm, it's time to make some predictions."
   ]
  },
  {
   "cell_type": "code",
   "execution_count": 18,
   "metadata": {
    "slideshow": {
     "slide_type": "subslide"
    }
   },
   "outputs": [
    {
     "name": "stdout",
     "output_type": "stream",
     "text": [
      "[[8.3]\n",
      " [2.5]\n",
      " [2.5]\n",
      " [6.9]\n",
      " [5.9]]\n"
     ]
    }
   ],
   "source": [
    "print(X_test) # Testing data - In Hours\n",
    "y_pred = regressor.predict(X_test) # Predicting the scores"
   ]
  },
  {
   "cell_type": "code",
   "execution_count": 19,
   "metadata": {
    "slideshow": {
     "slide_type": "subslide"
    }
   },
   "outputs": [
    {
     "data": {
      "text/html": [
       "<div>\n",
       "<style scoped>\n",
       "    .dataframe tbody tr th:only-of-type {\n",
       "        vertical-align: middle;\n",
       "    }\n",
       "\n",
       "    .dataframe tbody tr th {\n",
       "        vertical-align: top;\n",
       "    }\n",
       "\n",
       "    .dataframe thead th {\n",
       "        text-align: right;\n",
       "    }\n",
       "</style>\n",
       "<table border=\"1\" class=\"dataframe\">\n",
       "  <thead>\n",
       "    <tr style=\"text-align: right;\">\n",
       "      <th></th>\n",
       "      <th>Actual</th>\n",
       "      <th>Predicted</th>\n",
       "    </tr>\n",
       "  </thead>\n",
       "  <tbody>\n",
       "    <tr>\n",
       "      <th>0</th>\n",
       "      <td>81</td>\n",
       "      <td>83.188141</td>\n",
       "    </tr>\n",
       "    <tr>\n",
       "      <th>1</th>\n",
       "      <td>30</td>\n",
       "      <td>27.032088</td>\n",
       "    </tr>\n",
       "    <tr>\n",
       "      <th>2</th>\n",
       "      <td>21</td>\n",
       "      <td>27.032088</td>\n",
       "    </tr>\n",
       "    <tr>\n",
       "      <th>3</th>\n",
       "      <td>76</td>\n",
       "      <td>69.633232</td>\n",
       "    </tr>\n",
       "    <tr>\n",
       "      <th>4</th>\n",
       "      <td>62</td>\n",
       "      <td>59.951153</td>\n",
       "    </tr>\n",
       "  </tbody>\n",
       "</table>\n",
       "</div>"
      ],
      "text/plain": [
       "   Actual  Predicted\n",
       "0      81  83.188141\n",
       "1      30  27.032088\n",
       "2      21  27.032088\n",
       "3      76  69.633232\n",
       "4      62  59.951153"
      ]
     },
     "execution_count": 19,
     "metadata": {},
     "output_type": "execute_result"
    }
   ],
   "source": [
    "# Comparing Actual vs Predicted\n",
    "df = pd.DataFrame({'Actual': y_test, 'Predicted': y_pred})  \n",
    "df "
   ]
  },
  {
   "cell_type": "code",
   "execution_count": 20,
   "metadata": {
    "slideshow": {
     "slide_type": "slide"
    }
   },
   "outputs": [
    {
     "name": "stdout",
     "output_type": "stream",
     "text": [
      "Training Score: 0.9491209376364417\n",
      "Test Score: 0.9678055545167994\n"
     ]
    }
   ],
   "source": [
    "#Estimating training and test score\n",
    "print(\"Training Score:\",regressor.score(X_train,y_train))\n",
    "print(\"Test Score:\",regressor.score(X_test,y_test))"
   ]
  },
  {
   "cell_type": "code",
   "execution_count": 22,
   "metadata": {
    "slideshow": {
     "slide_type": "slide"
    }
   },
   "outputs": [
    {
     "name": "stdout",
     "output_type": "stream",
     "text": [
      "No of Hours = 9.25\n",
      "Predicted Score = 92.38611528261494\n"
     ]
    }
   ],
   "source": [
    "# Testing with some new data\n",
    "hours = 9.25\n",
    "test = np.array([hours])\n",
    "test = test.reshape(-1, 1)\n",
    "own_pred = regressor.predict(test)\n",
    "print(\"No of Hours = {}\".format(hours))\n",
    "print(\"Predicted Score = {}\".format(own_pred[0]))"
   ]
  },
  {
   "cell_type": "markdown",
   "metadata": {
    "slideshow": {
     "slide_type": "slide"
    }
   },
   "source": [
    "### **Evaluating the model**\n",
    "\n",
    "The final step is to evaluate the performance of algorithm. This step is particularly important to compare how well different algorithms perform on a particular dataset."
   ]
  },
  {
   "cell_type": "code",
   "execution_count": 23,
   "metadata": {
    "slideshow": {
     "slide_type": "subslide"
    }
   },
   "outputs": [
    {
     "name": "stdout",
     "output_type": "stream",
     "text": [
      "Mean Absolute Error: 3.9207511902099244\n",
      "Mean Squared Error: 18.943211722315272\n",
      "Root Mean Squared Error: 4.352380006653288\n",
      "R-2: 0.9678055545167994\n"
     ]
    }
   ],
   "source": [
    "from sklearn import metrics  \n",
    "print('Mean Absolute Error:',metrics.mean_absolute_error(y_test, y_pred)) \n",
    "print('Mean Squared Error:', metrics.mean_squared_error(y_test, y_pred))\n",
    "print('Root Mean Squared Error:', np.sqrt(metrics.mean_squared_error(y_test, y_pred)))\n",
    "print('R-2:', metrics.r2_score(y_test, y_pred))"
   ]
  },
  {
   "cell_type": "markdown",
   "metadata": {
    "slideshow": {
     "slide_type": "fragment"
    }
   },
   "source": [
    "R-squared gives the goodness of the fit and as can be seen it is 96.7% which is really good. This means that the algorithm has proven to be good for the given data.\n",
    "\n",
    "It can also be said that the model's accuracy is 96.78%\n",
    "\n",
    "NOTE - In practice, you’ll never see a regression model with an R2 of 100%."
   ]
  }
 ],
 "metadata": {
  "kernelspec": {
   "display_name": "Python 3",
   "language": "python",
   "name": "python3"
  },
  "language_info": {
   "codemirror_mode": {
    "name": "ipython",
    "version": 3
   },
   "file_extension": ".py",
   "mimetype": "text/x-python",
   "name": "python",
   "nbconvert_exporter": "python",
   "pygments_lexer": "ipython3",
   "version": "3.7.6"
  }
 },
 "nbformat": 4,
 "nbformat_minor": 4
}